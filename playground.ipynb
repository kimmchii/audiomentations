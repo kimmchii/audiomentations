{
 "cells": [
  {
   "cell_type": "code",
   "execution_count": 1,
   "metadata": {},
   "outputs": [],
   "source": [
    "from audiomentations import Compose, Whispered, SimulatePhoneCall\n",
    "import librosa\n",
    "import soundfile as sf"
   ]
  },
  {
   "cell_type": "code",
   "execution_count": 6,
   "metadata": {},
   "outputs": [],
   "source": [
    "x, fs = librosa.load('./35B_ped_J00_0_0001.wav', sr=None)\n",
    "augment = Compose([\n",
    "    Whispered(window_width=400, p=1),\n",
    "    SimulatePhoneCall(low_frequency=300, high_frequency=3000, p=1),\n",
    "])\n",
    "\n",
    "augmented_samples = augment(samples=x, sample_rate=fs)\n",
    "sf.write('augmented.wav', augmented_samples, fs)"
   ]
  }
 ],
 "metadata": {
  "kernelspec": {
   "display_name": "vad",
   "language": "python",
   "name": "python3"
  },
  "language_info": {
   "codemirror_mode": {
    "name": "ipython",
    "version": 3
   },
   "file_extension": ".py",
   "mimetype": "text/x-python",
   "name": "python",
   "nbconvert_exporter": "python",
   "pygments_lexer": "ipython3",
   "version": "3.10.11"
  }
 },
 "nbformat": 4,
 "nbformat_minor": 2
}
